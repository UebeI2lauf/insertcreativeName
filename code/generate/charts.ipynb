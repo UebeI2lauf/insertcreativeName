{
 "cells": [
  {
   "cell_type": "code",
   "execution_count": 76,
   "metadata": {},
   "outputs": [
    {
     "name": "stdout",
     "output_type": "stream",
     "text": [
      "The mean of the controllgroup (50f): 50.84 with an SD: 27.849854577717277\n",
      "The mean of the controllgroup (50m): 50.24 with an SD: 30.637597817061312\n",
      "The mean of the errorgroup (50f): 45.2 with an SD: 30.93283045568252\n",
      "The mean of the errorgroup (50m): 49.76 with an SD: 28.4953048764178\n",
      "The values for controllgroup (50f/50m) vs errorgroup (50f/50m) are t-value: [0.72847174] and p-value: [0.46718555]\n",
      "The values for controllgroup (50f) vs controllgroup (50m) are t-value: [0.1014399] and p-value: [0.91940852]\n",
      "The values for errorgroup (50f) vs errorgroup (50m) are t-value: [-0.75896329] and p-value: [0.44969614]\n",
      "The values for controllgroup (50f) vs errorgroup (50f) are t-value: [0.94851944] and p-value: [0.34519825]\n",
      "The values for controllgroup (50m) vs errorgroup (50m) are t-value: [0.08030457] and p-value: [0.93615879]\n",
      "The values for controllgroup (50f) vs errorgroup (50m) are t-value: [0.18973685] and p-value: [0.84990778]\n",
      "The values for controllgroup (50m) vs errorgroup (50f) are t-value: [0.81033838] and p-value: [0.41970915]\n"
     ]
    }
   ],
   "source": [
    "import numpy as np\r\n",
    "from numpy.core.fromnumeric import std\r\n",
    "from scipy.stats.stats import ttest_ind\r\n",
    "\r\n",
    "np.random.seed(42)\r\n",
    "# create array of controllgroup\r\n",
    "controll_group_f = np.random.randint(0, 100, (1, 50), dtype=np.int32)\r\n",
    "controll_group_m = np.random.randint(0, 100, (1, 50), dtype=np.int32)\r\n",
    "\r\n",
    "# create array of errorgroup\r\n",
    "controll_error_f = np.random.randint(0, 100, (1, 50), dtype=np.int32)\r\n",
    "controll_error_m = np.random.randint(0, 100, (1, 50), dtype=np.int32)\r\n",
    "\r\n",
    "# calc standart deviation and mean\r\n",
    "gf = (np.mean(controll_group_f), np.std(controll_group_f))\r\n",
    "gm = (np.mean(controll_group_m), np.std(controll_group_m))\r\n",
    "ef = (np.mean(controll_error_f), np.std(controll_error_f))\r\n",
    "em = (np.mean(controll_error_m), np.std(controll_error_m))\r\n",
    "\r\n",
    "print(f\"The mean of the controllgroup (50f): {gf[0]} with an SD: {gf[1]}\")\r\n",
    "print(f\"The mean of the controllgroup (50m): {gm[0]} with an SD: {gm[1]}\")\r\n",
    "print(f\"The mean of the errorgroup (50f): {ef[0]} with an SD: {ef[1]}\")\r\n",
    "print(f\"The mean of the errorgroup (50m): {em[0]} with an SD: {em[1]}\")\r\n",
    "\r\n",
    "# calc t-test\r\n",
    "nw = np.c_[controll_group_f,controll_group_m]\r\n",
    "\r\n",
    "a = ttest_ind(\r\n",
    "    nw,np.c_[controll_error_f,controll_error_m], 1\r\n",
    ")\r\n",
    "print(\r\n",
    "    f\"The values for controllgroup (50f/50m) vs errorgroup (50f/50m) are t-value: {a[0]} and p-value: {a[1]}\"\r\n",
    ")\r\n",
    "\r\n",
    "# controll with in the groups\r\n",
    "b = ttest_ind(controll_group_f, controll_group_m, 1)\r\n",
    "c = ttest_ind(controll_error_f, controll_error_m, 1)\r\n",
    "print(\r\n",
    "    f\"The values for controllgroup (50f) vs controllgroup (50m) are t-value: {b[0]} and p-value: {b[1]}\"\r\n",
    ")\r\n",
    "print(\r\n",
    "    f\"The values for errorgroup (50f) vs errorgroup (50m) are t-value: {c[0]} and p-value: {c[1]}\"\r\n",
    ")\r\n",
    "\r\n",
    "\r\n",
    "# values between the groups same sex\r\n",
    "d = ttest_ind(controll_group_f, controll_error_f, 1)\r\n",
    "e = ttest_ind(controll_group_m, controll_error_m, 1)\r\n",
    "\r\n",
    "print(\r\n",
    "    f\"The values for controllgroup (50f) vs errorgroup (50f) are t-value: {d[0]} and p-value: {d[1]}\"\r\n",
    ")\r\n",
    "print(\r\n",
    "    f\"The values for controllgroup (50m) vs errorgroup (50m) are t-value: {e[0]} and p-value: {e[1]}\"\r\n",
    ")\r\n",
    "\r\n",
    "# values between the groups not same sex\r\n",
    "f = ttest_ind(controll_group_f, controll_error_m, 1)\r\n",
    "g = ttest_ind(controll_group_m, controll_error_f, 1)\r\n",
    "\r\n",
    "print(\r\n",
    "    f\"The values for controllgroup (50f) vs errorgroup (50m) are t-value: {f[0]} and p-value: {f[1]}\"\r\n",
    ")\r\n",
    "print(\r\n",
    "    f\"The values for controllgroup (50m) vs errorgroup (50f) are t-value: {g[0]} and p-value: {g[1]}\"\r\n",
    ")\r\n"
   ]
  },
  {
   "cell_type": "code",
   "execution_count": 32,
   "metadata": {},
   "outputs": [
    {
     "name": "stdout",
     "output_type": "stream",
     "text": [
      "(1, 50)\n"
     ]
    },
    {
     "data": {
      "image/png": "[encoded data removed]",
      "text/plain": [
       "<Figure size 432x288 with 1 Axes>"
      ]
     },
     "metadata": {
      "needs_background": "light"
     },
     "output_type": "display_data"
    }
   ],
   "source": [
    "import seaborn as sns\r\n",
    "import pandas as pd\r\n",
    "\r\n",
    "print(controll_error_f.shape)\r\n",
    "\r\n",
    "new = np.transpose(controll_error_f, (1, 0))\r\n",
    "dataframe = pd.DataFrame(new, columns=[\"error group female\"])\r\n",
    "\r\n",
    "box = sns.boxplot(data=dataframe, showmeans=True,meanline=True)\r\n",
    "box.set(xlabel=\"groups\", ylabel=\"# points\")\r\n",
    "figg = box.get_figure()\r\n",
    "figg.savefig(\"test.png\")"
   ]
  },
  {
   "cell_type": "code",
   "execution_count": 81,
   "metadata": {},
   "outputs": [
    {
     "data": {
      "image/png": "[encoded data removed]",
      "text/plain": [
       "<Figure size 432x288 with 1 Axes>"
      ]
     },
     "metadata": {
      "needs_background": "light"
     },
     "output_type": "display_data"
    }
   ],
   "source": [
    "import matplotlib as plt\r\n",
    "import seaborn as sns\r\n",
    "import pandas as pd\r\n",
    "\r\n",
    "err = np.c_[controll_error_f, controll_error_m]\r\n",
    "sav = np.c_[controll_group_f,controll_group_m]\r\n",
    "err = np.transpose(err, (1,0))\r\n",
    "sav = np.transpose(sav,(1,0))\r\n",
    "con = np.concatenate((sav,err), axis=1)\r\n",
    "dates = pd.DataFrame(con,  columns=[\"controll group\", \"error group\"])\r\n",
    "\r\n",
    "\r\n",
    "experiment = sns.boxplot(data=dates, showmeans=True,meanline=True)\r\n",
    "experiment.set(xlabel=\"groups\", ylabel=\"points\")\r\n",
    "experiment.plot()\r\n",
    "figg = experiment.get_figure()\r\n",
    "figg.savefig(\"all.png\")\r\n",
    "\r\n",
    "\r\n"
   ]
  },
  {
   "cell_type": "code",
   "execution_count": 82,
   "metadata": {},
   "outputs": [
    {
     "data": {
      "image/png": "[encoded data removed]",
      "text/plain": [
       "<Figure size 432x288 with 1 Axes>"
      ]
     },
     "metadata": {
      "needs_background": "light"
     },
     "output_type": "display_data"
    }
   ],
   "source": [
    "controllgroup = np.transpose(controll_group_f, (1, 0))\r\n",
    "errorgroup = np.transpose(controll_error_f, (1, 0))\r\n",
    "con = np.concatenate((controllgroup,errorgroup), axis=1)\r\n",
    "dates = pd.DataFrame(con,  columns=[\"controll group female\", \"error group female\"])\r\n",
    "fem = sns.boxplot(data=dates, showmeans=True,meanline=True)\r\n",
    "fem.set(xlabel=\"groups\", ylabel=\"points\")\r\n",
    "fem.plot()\r\n",
    "figg = fem.get_figure()\r\n",
    "figg.savefig(\"female.png\")"
   ]
  },
  {
   "cell_type": "code",
   "execution_count": 83,
   "metadata": {},
   "outputs": [
    {
     "data": {
      "image/png": "[encoded data removed]",
      "text/plain": [
       "<Figure size 432x288 with 1 Axes>"
      ]
     },
     "metadata": {
      "needs_background": "light"
     },
     "output_type": "display_data"
    }
   ],
   "source": [
    "\r\n",
    "controllgroup = np.transpose(controll_group_m, (1, 0))\r\n",
    "errorgroup = np.transpose(controll_error_m, (1, 0))\r\n",
    "con = np.concatenate((controllgroup,errorgroup), axis=1)\r\n",
    "dates = pd.DataFrame(con,  columns=[\"controll group male\", \"error group male\"])\r\n",
    "fem = sns.boxplot(data=dates, showmeans=True,meanline=True)\r\n",
    "fem.set(xlabel=\"groups\", ylabel=\"points\")\r\n",
    "fem.plot()\r\n",
    "figg = fem.get_figure()\r\n",
    "figg.savefig(\"male.png\")\r\n"
   ]
  },
  {
   "cell_type": "code",
   "execution_count": 84,
   "metadata": {},
   "outputs": [
    {
     "data": {
      "image/png": "[encoded data removed]",
      "text/plain": [
       "<Figure size 432x288 with 1 Axes>"
      ]
     },
     "metadata": {
      "needs_background": "light"
     },
     "output_type": "display_data"
    }
   ],
   "source": [
    "controllgroup = np.transpose(controll_group_f, (1, 0))\r\n",
    "errorgroup = np.transpose(controll_error_m, (1, 0))\r\n",
    "con = np.concatenate((controllgroup,errorgroup), axis=1)\r\n",
    "dates = pd.DataFrame(con,  columns=[\"controll group female\", \"error group male\"])\r\n",
    "fem = sns.boxplot(data=dates, showmeans=True,meanline=True)\r\n",
    "fem.set(xlabel=\"groups\", ylabel=\"points\")\r\n",
    "fem.plot()\r\n",
    "figg = fem.get_figure()\r\n",
    "figg.savefig(\"fsav_merr.png\")"
   ]
  },
  {
   "cell_type": "code",
   "execution_count": 85,
   "metadata": {},
   "outputs": [
    {
     "data": {
      "image/png": "[encoded data removed]",
      "text/plain": [
       "<Figure size 432x288 with 1 Axes>"
      ]
     },
     "metadata": {
      "needs_background": "light"
     },
     "output_type": "display_data"
    }
   ],
   "source": [
    "controllgroup = np.transpose(controll_group_m, (1, 0))\r\n",
    "errorgroup = np.transpose(controll_error_f, (1, 0))\r\n",
    "con = np.concatenate((controllgroup,errorgroup), axis=1)\r\n",
    "dates = pd.DataFrame(con,  columns=[\"controll group male\", \"error group female\"])\r\n",
    "fem = sns.boxplot(data=dates, showmeans=True,meanline=True)\r\n",
    "fem.set(xlabel=\"groups\", ylabel=\"points\")\r\n",
    "fem.plot()\r\n",
    "figg = fem.get_figure()\r\n",
    "figg.savefig(\"msav_ferr.png\")"
   ]
  },
  {
   "cell_type": "code",
   "execution_count": 86,
   "metadata": {},
   "outputs": [
    {
     "data": {
      "image/png": "[encoded data removed]",
      "text/plain": [
       "<Figure size 432x288 with 1 Axes>"
      ]
     },
     "metadata": {
      "needs_background": "light"
     },
     "output_type": "display_data"
    }
   ],
   "source": [
    "controllgroup = np.transpose(controll_group_f, (1, 0))\r\n",
    "errorgroup = np.transpose(controll_group_m, (1, 0))\r\n",
    "con = np.concatenate((controllgroup,errorgroup), axis=1)\r\n",
    "dates = pd.DataFrame(con,  columns=[\"controll group female\", \"controll group male\"])\r\n",
    "fem = sns.boxplot(data=dates, showmeans=True,meanline=True)\r\n",
    "fem.set(xlabel=\"groups\", ylabel=\"points\")\r\n",
    "fem.plot()\r\n",
    "figg = fem.get_figure()\r\n",
    "figg.savefig(\"fsav_msav.png\")"
   ]
  },
  {
   "cell_type": "code",
   "execution_count": 87,
   "metadata": {},
   "outputs": [
    {
     "data": {
      "image/png": "[encoded data removed]",
      "text/plain": [
       "<Figure size 432x288 with 1 Axes>"
      ]
     },
     "metadata": {
      "needs_background": "light"
     },
     "output_type": "display_data"
    }
   ],
   "source": [
    "controllgroup = np.transpose(controll_error_f, (1, 0))\r\n",
    "errorgroup = np.transpose(controll_error_m, (1, 0))\r\n",
    "con = np.concatenate((controllgroup,errorgroup), axis=1)\r\n",
    "dates = pd.DataFrame(con,  columns=[\"controll group female\", \"error group male\"])\r\n",
    "fem = sns.boxplot(data=dates, showmeans=True,meanline=True)\r\n",
    "fem.set(xlabel=\"groups\", ylabel=\"points\")\r\n",
    "fem.plot()\r\n",
    "figg = fem.get_figure()\r\n",
    "figg.savefig(\"ferr_merr.png\")"
   ]
  }
 ],
 "metadata": {
  "interpreter": {
   "hash": "8d641e0e3977ea5be62c974178d7b02d613ac77f8f60dc01cc2639ac3e14fb50"
  },
  "kernelspec": {
   "display_name": "Python 3.8.9 64-bit ('.venv': venv)",
   "name": "python3"
  },
  "language_info": {
   "codemirror_mode": {
    "name": "ipython",
    "version": 3
   },
   "file_extension": ".py",
   "mimetype": "text/x-python",
   "name": "python",
   "nbconvert_exporter": "python",
   "pygments_lexer": "ipython3",
   "version": "3.8.9"
  },
  "orig_nbformat": 4
 },
 "nbformat": 4,
 "nbformat_minor": 2
}